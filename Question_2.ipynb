{
  "nbformat": 4,
  "nbformat_minor": 0,
  "metadata": {
    "colab": {
      "name": "Question_2.ipynb",
      "provenance": [],
      "collapsed_sections": [
        "B5O84bmxwiTr",
        "9-SfjLr9v6Qk",
        "oUmDaSuvwtx6",
        "dr2Aa6YyyFDr",
        "B9BWaQfA_KLK",
        "HIUFCQQzAog3",
        "RBYPqT5dB7rl",
        "sj05mwKy4r6w",
        "Okgfxxp748c0",
        "_S-LMDxQUdM5",
        "mmSmTrj9P4QR",
        "zy6DkHKvHb7p",
        "lRgNnRO-HzxI"
      ],
      "toc_visible": true,
      "include_colab_link": true
    },
    "kernelspec": {
      "name": "python3",
      "display_name": "Python 3"
    },
    "language_info": {
      "name": "python"
    }
  },
  "cells": [
    {
      "cell_type": "markdown",
      "metadata": {
        "id": "view-in-github",
        "colab_type": "text"
      },
      "source": [
        "<a href=\"https://colab.research.google.com/github/akhand3108/MLDA-1/blob/master/Question_2.ipynb\" target=\"_parent\"><img src=\"https://colab.research.google.com/assets/colab-badge.svg\" alt=\"Open In Colab\"/></a>"
      ]
    },
    {
      "cell_type": "markdown",
      "metadata": {
        "id": "B5O84bmxwiTr"
      },
      "source": [
        "# **Import**"
      ]
    },
    {
      "cell_type": "code",
      "metadata": {
        "id": "chfUj8D_sblk"
      },
      "source": [
        "import numpy as np\n",
        "import pandas as pd\n",
        "from scipy import stats\n",
        "from matplotlib import pyplot as plt\n",
        "import random"
      ],
      "execution_count": 1,
      "outputs": []
    },
    {
      "cell_type": "markdown",
      "metadata": {
        "id": "hCJb2_AasPbM"
      },
      "source": [
        "# **Array Declaration**"
      ]
    },
    {
      "cell_type": "code",
      "metadata": {
        "id": "POmlUH7f0fiP"
      },
      "source": [
        "from google.colab import drive\n",
        "drive.mount('/content/drive')"
      ],
      "execution_count": null,
      "outputs": []
    },
    {
      "cell_type": "code",
      "metadata": {
        "colab": {
          "base_uri": "https://localhost:8080/",
          "height": 404
        },
        "id": "nLLE92JcstY7",
        "outputId": "b9f1d1e3-9f42-473e-c8d3-423c5ec52d71"
      },
      "source": [
        "dataset = pd.read_csv('loan_mgmt.csv')\n",
        "arr = dataset.iloc[:,2:].values\n",
        "print(arr)"
      ],
      "execution_count": 2,
      "outputs": [
        {
          "output_type": "error",
          "ename": "FileNotFoundError",
          "evalue": "ignored",
          "traceback": [
            "\u001b[0;31m---------------------------------------------------------------------------\u001b[0m",
            "\u001b[0;31mFileNotFoundError\u001b[0m                         Traceback (most recent call last)",
            "\u001b[0;32m<ipython-input-2-85a3cfc024c4>\u001b[0m in \u001b[0;36m<module>\u001b[0;34m()\u001b[0m\n\u001b[0;32m----> 1\u001b[0;31m \u001b[0mdataset\u001b[0m \u001b[0;34m=\u001b[0m \u001b[0mpd\u001b[0m\u001b[0;34m.\u001b[0m\u001b[0mread_csv\u001b[0m\u001b[0;34m(\u001b[0m\u001b[0;34m'loan_mgmt.csv'\u001b[0m\u001b[0;34m)\u001b[0m\u001b[0;34m\u001b[0m\u001b[0;34m\u001b[0m\u001b[0m\n\u001b[0m\u001b[1;32m      2\u001b[0m \u001b[0marr\u001b[0m \u001b[0;34m=\u001b[0m \u001b[0mdataset\u001b[0m\u001b[0;34m.\u001b[0m\u001b[0miloc\u001b[0m\u001b[0;34m[\u001b[0m\u001b[0;34m:\u001b[0m\u001b[0;34m,\u001b[0m\u001b[0;36m2\u001b[0m\u001b[0;34m:\u001b[0m\u001b[0;34m]\u001b[0m\u001b[0;34m.\u001b[0m\u001b[0mvalues\u001b[0m\u001b[0;34m\u001b[0m\u001b[0;34m\u001b[0m\u001b[0m\n\u001b[1;32m      3\u001b[0m \u001b[0mprint\u001b[0m\u001b[0;34m(\u001b[0m\u001b[0marr\u001b[0m\u001b[0;34m)\u001b[0m\u001b[0;34m\u001b[0m\u001b[0;34m\u001b[0m\u001b[0m\n",
            "\u001b[0;32m/usr/local/lib/python3.7/dist-packages/pandas/io/parsers.py\u001b[0m in \u001b[0;36mread_csv\u001b[0;34m(filepath_or_buffer, sep, delimiter, header, names, index_col, usecols, squeeze, prefix, mangle_dupe_cols, dtype, engine, converters, true_values, false_values, skipinitialspace, skiprows, skipfooter, nrows, na_values, keep_default_na, na_filter, verbose, skip_blank_lines, parse_dates, infer_datetime_format, keep_date_col, date_parser, dayfirst, cache_dates, iterator, chunksize, compression, thousands, decimal, lineterminator, quotechar, quoting, doublequote, escapechar, comment, encoding, dialect, error_bad_lines, warn_bad_lines, delim_whitespace, low_memory, memory_map, float_precision)\u001b[0m\n\u001b[1;32m    686\u001b[0m     )\n\u001b[1;32m    687\u001b[0m \u001b[0;34m\u001b[0m\u001b[0m\n\u001b[0;32m--> 688\u001b[0;31m     \u001b[0;32mreturn\u001b[0m \u001b[0m_read\u001b[0m\u001b[0;34m(\u001b[0m\u001b[0mfilepath_or_buffer\u001b[0m\u001b[0;34m,\u001b[0m \u001b[0mkwds\u001b[0m\u001b[0;34m)\u001b[0m\u001b[0;34m\u001b[0m\u001b[0;34m\u001b[0m\u001b[0m\n\u001b[0m\u001b[1;32m    689\u001b[0m \u001b[0;34m\u001b[0m\u001b[0m\n\u001b[1;32m    690\u001b[0m \u001b[0;34m\u001b[0m\u001b[0m\n",
            "\u001b[0;32m/usr/local/lib/python3.7/dist-packages/pandas/io/parsers.py\u001b[0m in \u001b[0;36m_read\u001b[0;34m(filepath_or_buffer, kwds)\u001b[0m\n\u001b[1;32m    452\u001b[0m \u001b[0;34m\u001b[0m\u001b[0m\n\u001b[1;32m    453\u001b[0m     \u001b[0;31m# Create the parser.\u001b[0m\u001b[0;34m\u001b[0m\u001b[0;34m\u001b[0m\u001b[0;34m\u001b[0m\u001b[0m\n\u001b[0;32m--> 454\u001b[0;31m     \u001b[0mparser\u001b[0m \u001b[0;34m=\u001b[0m \u001b[0mTextFileReader\u001b[0m\u001b[0;34m(\u001b[0m\u001b[0mfp_or_buf\u001b[0m\u001b[0;34m,\u001b[0m \u001b[0;34m**\u001b[0m\u001b[0mkwds\u001b[0m\u001b[0;34m)\u001b[0m\u001b[0;34m\u001b[0m\u001b[0;34m\u001b[0m\u001b[0m\n\u001b[0m\u001b[1;32m    455\u001b[0m \u001b[0;34m\u001b[0m\u001b[0m\n\u001b[1;32m    456\u001b[0m     \u001b[0;32mif\u001b[0m \u001b[0mchunksize\u001b[0m \u001b[0;32mor\u001b[0m \u001b[0miterator\u001b[0m\u001b[0;34m:\u001b[0m\u001b[0;34m\u001b[0m\u001b[0;34m\u001b[0m\u001b[0m\n",
            "\u001b[0;32m/usr/local/lib/python3.7/dist-packages/pandas/io/parsers.py\u001b[0m in \u001b[0;36m__init__\u001b[0;34m(self, f, engine, **kwds)\u001b[0m\n\u001b[1;32m    946\u001b[0m             \u001b[0mself\u001b[0m\u001b[0;34m.\u001b[0m\u001b[0moptions\u001b[0m\u001b[0;34m[\u001b[0m\u001b[0;34m\"has_index_names\"\u001b[0m\u001b[0;34m]\u001b[0m \u001b[0;34m=\u001b[0m \u001b[0mkwds\u001b[0m\u001b[0;34m[\u001b[0m\u001b[0;34m\"has_index_names\"\u001b[0m\u001b[0;34m]\u001b[0m\u001b[0;34m\u001b[0m\u001b[0;34m\u001b[0m\u001b[0m\n\u001b[1;32m    947\u001b[0m \u001b[0;34m\u001b[0m\u001b[0m\n\u001b[0;32m--> 948\u001b[0;31m         \u001b[0mself\u001b[0m\u001b[0;34m.\u001b[0m\u001b[0m_make_engine\u001b[0m\u001b[0;34m(\u001b[0m\u001b[0mself\u001b[0m\u001b[0;34m.\u001b[0m\u001b[0mengine\u001b[0m\u001b[0;34m)\u001b[0m\u001b[0;34m\u001b[0m\u001b[0;34m\u001b[0m\u001b[0m\n\u001b[0m\u001b[1;32m    949\u001b[0m \u001b[0;34m\u001b[0m\u001b[0m\n\u001b[1;32m    950\u001b[0m     \u001b[0;32mdef\u001b[0m \u001b[0mclose\u001b[0m\u001b[0;34m(\u001b[0m\u001b[0mself\u001b[0m\u001b[0;34m)\u001b[0m\u001b[0;34m:\u001b[0m\u001b[0;34m\u001b[0m\u001b[0;34m\u001b[0m\u001b[0m\n",
            "\u001b[0;32m/usr/local/lib/python3.7/dist-packages/pandas/io/parsers.py\u001b[0m in \u001b[0;36m_make_engine\u001b[0;34m(self, engine)\u001b[0m\n\u001b[1;32m   1178\u001b[0m     \u001b[0;32mdef\u001b[0m \u001b[0m_make_engine\u001b[0m\u001b[0;34m(\u001b[0m\u001b[0mself\u001b[0m\u001b[0;34m,\u001b[0m \u001b[0mengine\u001b[0m\u001b[0;34m=\u001b[0m\u001b[0;34m\"c\"\u001b[0m\u001b[0;34m)\u001b[0m\u001b[0;34m:\u001b[0m\u001b[0;34m\u001b[0m\u001b[0;34m\u001b[0m\u001b[0m\n\u001b[1;32m   1179\u001b[0m         \u001b[0;32mif\u001b[0m \u001b[0mengine\u001b[0m \u001b[0;34m==\u001b[0m \u001b[0;34m\"c\"\u001b[0m\u001b[0;34m:\u001b[0m\u001b[0;34m\u001b[0m\u001b[0;34m\u001b[0m\u001b[0m\n\u001b[0;32m-> 1180\u001b[0;31m             \u001b[0mself\u001b[0m\u001b[0;34m.\u001b[0m\u001b[0m_engine\u001b[0m \u001b[0;34m=\u001b[0m \u001b[0mCParserWrapper\u001b[0m\u001b[0;34m(\u001b[0m\u001b[0mself\u001b[0m\u001b[0;34m.\u001b[0m\u001b[0mf\u001b[0m\u001b[0;34m,\u001b[0m \u001b[0;34m**\u001b[0m\u001b[0mself\u001b[0m\u001b[0;34m.\u001b[0m\u001b[0moptions\u001b[0m\u001b[0;34m)\u001b[0m\u001b[0;34m\u001b[0m\u001b[0;34m\u001b[0m\u001b[0m\n\u001b[0m\u001b[1;32m   1181\u001b[0m         \u001b[0;32melse\u001b[0m\u001b[0;34m:\u001b[0m\u001b[0;34m\u001b[0m\u001b[0;34m\u001b[0m\u001b[0m\n\u001b[1;32m   1182\u001b[0m             \u001b[0;32mif\u001b[0m \u001b[0mengine\u001b[0m \u001b[0;34m==\u001b[0m \u001b[0;34m\"python\"\u001b[0m\u001b[0;34m:\u001b[0m\u001b[0;34m\u001b[0m\u001b[0;34m\u001b[0m\u001b[0m\n",
            "\u001b[0;32m/usr/local/lib/python3.7/dist-packages/pandas/io/parsers.py\u001b[0m in \u001b[0;36m__init__\u001b[0;34m(self, src, **kwds)\u001b[0m\n\u001b[1;32m   2008\u001b[0m         \u001b[0mkwds\u001b[0m\u001b[0;34m[\u001b[0m\u001b[0;34m\"usecols\"\u001b[0m\u001b[0;34m]\u001b[0m \u001b[0;34m=\u001b[0m \u001b[0mself\u001b[0m\u001b[0;34m.\u001b[0m\u001b[0musecols\u001b[0m\u001b[0;34m\u001b[0m\u001b[0;34m\u001b[0m\u001b[0m\n\u001b[1;32m   2009\u001b[0m \u001b[0;34m\u001b[0m\u001b[0m\n\u001b[0;32m-> 2010\u001b[0;31m         \u001b[0mself\u001b[0m\u001b[0;34m.\u001b[0m\u001b[0m_reader\u001b[0m \u001b[0;34m=\u001b[0m \u001b[0mparsers\u001b[0m\u001b[0;34m.\u001b[0m\u001b[0mTextReader\u001b[0m\u001b[0;34m(\u001b[0m\u001b[0msrc\u001b[0m\u001b[0;34m,\u001b[0m \u001b[0;34m**\u001b[0m\u001b[0mkwds\u001b[0m\u001b[0;34m)\u001b[0m\u001b[0;34m\u001b[0m\u001b[0;34m\u001b[0m\u001b[0m\n\u001b[0m\u001b[1;32m   2011\u001b[0m         \u001b[0mself\u001b[0m\u001b[0;34m.\u001b[0m\u001b[0munnamed_cols\u001b[0m \u001b[0;34m=\u001b[0m \u001b[0mself\u001b[0m\u001b[0;34m.\u001b[0m\u001b[0m_reader\u001b[0m\u001b[0;34m.\u001b[0m\u001b[0munnamed_cols\u001b[0m\u001b[0;34m\u001b[0m\u001b[0;34m\u001b[0m\u001b[0m\n\u001b[1;32m   2012\u001b[0m \u001b[0;34m\u001b[0m\u001b[0m\n",
            "\u001b[0;32mpandas/_libs/parsers.pyx\u001b[0m in \u001b[0;36mpandas._libs.parsers.TextReader.__cinit__\u001b[0;34m()\u001b[0m\n",
            "\u001b[0;32mpandas/_libs/parsers.pyx\u001b[0m in \u001b[0;36mpandas._libs.parsers.TextReader._setup_parser_source\u001b[0;34m()\u001b[0m\n",
            "\u001b[0;31mFileNotFoundError\u001b[0m: [Errno 2] No such file or directory: 'loan_mgmt.csv'"
          ]
        }
      ]
    },
    {
      "cell_type": "markdown",
      "metadata": {
        "id": "9-SfjLr9v6Qk"
      },
      "source": [
        "# ***Mean, Median, Mode, Range, Standard_deviation, IQR***"
      ]
    },
    {
      "cell_type": "markdown",
      "metadata": {
        "id": "ziFetnSdsHPN"
      },
      "source": [
        "## **Mean**"
      ]
    },
    {
      "cell_type": "code",
      "metadata": {
        "colab": {
          "base_uri": "https://localhost:8080/"
        },
        "id": "XjSoLSiMuCY8",
        "outputId": "271e9e08-f01e-4dca-a927-dcb01fcba391"
      },
      "source": [
        "average = []\n",
        "for y in range(0,5):\n",
        "  if y != 1:\n",
        "    average.append((sum(arr[:,y])/len(arr[:,y])))\n",
        "print(average)"
      ],
      "execution_count": null,
      "outputs": [
        {
          "output_type": "stream",
          "text": [
            "[42.27272727272727, 4536363.636363637, 2065.7272727272725, 8.0]\n"
          ],
          "name": "stdout"
        }
      ]
    },
    {
      "cell_type": "markdown",
      "metadata": {
        "id": "oUmDaSuvwtx6"
      },
      "source": [
        "## **Median**"
      ]
    },
    {
      "cell_type": "code",
      "metadata": {
        "colab": {
          "base_uri": "https://localhost:8080/"
        },
        "id": "8CJF2zArvZXG",
        "outputId": "e3c4d741-e103-44ff-b6c1-ca9ab0518bae"
      },
      "source": [
        "from statistics import median as stMedian\n",
        "median = []\n",
        "for y in range(0,5):\n",
        "  median.append(stMedian(arr[:,y]))\n",
        "print(median)"
      ],
      "execution_count": null,
      "outputs": [
        {
          "output_type": "stream",
          "text": [
            "[40, 1300000, 3200000, 1005, 8]\n"
          ],
          "name": "stdout"
        }
      ]
    },
    {
      "cell_type": "markdown",
      "metadata": {
        "id": "dr2Aa6YyyFDr"
      },
      "source": [
        "## **Mode**"
      ]
    },
    {
      "cell_type": "code",
      "metadata": {
        "id": "pjBJlfwiyOuu",
        "colab": {
          "base_uri": "https://localhost:8080/"
        },
        "outputId": "3277d1ac-dac6-4628-898e-ed8bf51cbf9b"
      },
      "source": [
        "from statistics import mode\n",
        "modes = []\n",
        "for y in range(0,5):\n",
        "  modes.append(stats.mode(arr[:,y]))\n",
        "print(np.array(modes))"
      ],
      "execution_count": null,
      "outputs": [
        {
          "output_type": "stream",
          "text": [
            "[[[     25]\n",
            "  [      1]]\n",
            "\n",
            " [[1200000]\n",
            "  [      2]]\n",
            "\n",
            " [[1200000]\n",
            "  [      2]]\n",
            "\n",
            " [[    364]\n",
            "  [      1]]\n",
            "\n",
            " [[      8]\n",
            "  [      5]]]\n"
          ],
          "name": "stdout"
        }
      ]
    },
    {
      "cell_type": "markdown",
      "metadata": {
        "id": "B9BWaQfA_KLK"
      },
      "source": [
        "## **Range**"
      ]
    },
    {
      "cell_type": "code",
      "metadata": {
        "colab": {
          "base_uri": "https://localhost:8080/"
        },
        "id": "bUVea3S-_Mpa",
        "outputId": "811af593-7e2c-4d1d-95ba-1269142067c1"
      },
      "source": [
        "def getting_range(val):\n",
        "  range1 = min(val)\n",
        "  range2 = max(val)\n",
        "  return (range2-range1)\n",
        "\n",
        "ranges = []\n",
        "for y in range(0,5):\n",
        "  ranges.append(getting_range(arr[:,y]))\n",
        "print(ranges)"
      ],
      "execution_count": null,
      "outputs": [
        {
          "output_type": "stream",
          "text": [
            "[40, 7100000, 13700000, 6936, 2]\n"
          ],
          "name": "stdout"
        }
      ]
    },
    {
      "cell_type": "markdown",
      "metadata": {
        "id": "HIUFCQQzAog3"
      },
      "source": [
        "## **Standard deviation**"
      ]
    },
    {
      "cell_type": "code",
      "metadata": {
        "colab": {
          "base_uri": "https://localhost:8080/"
        },
        "id": "naUJ42_4Atck",
        "outputId": "3ca8b3a8-3868-42fc-c71d-2f56e2c7461f"
      },
      "source": [
        "from statistics import stdev\n",
        "std_dev = []\n",
        "for y in range(0,5):\n",
        "  std_dev.append(stdev(arr[:,y]))\n",
        "print(std_dev)"
      ],
      "execution_count": null,
      "outputs": [
        {
          "output_type": "stream",
          "text": [
            "[13.30413469565007, 2092758.075754577, 4542526.329537893, 2257.4184370647813, 0.0]\n"
          ],
          "name": "stdout"
        }
      ]
    },
    {
      "cell_type": "markdown",
      "metadata": {
        "id": "RBYPqT5dB7rl"
      },
      "source": [
        "## **IQR**"
      ]
    },
    {
      "cell_type": "code",
      "metadata": {
        "colab": {
          "base_uri": "https://localhost:8080/"
        },
        "id": "RKiWzuiSB_Nd",
        "outputId": "5c47318b-4d25-4375-d645-06ee5142fb45"
      },
      "source": [
        "from scipy.stats import iqr\n",
        "arr_iqr = []\n",
        "for y in range(0,5):\n",
        "  arr_iqr.append(iqr(arr[:,y]))\n",
        "print(arr_iqr)"
      ],
      "execution_count": null,
      "outputs": [
        {
          "output_type": "stream",
          "text": [
            "[21.0, 900000.0, 6150000.0, 1238.0, 1.0]\n"
          ],
          "name": "stdout"
        }
      ]
    },
    {
      "cell_type": "markdown",
      "metadata": {
        "id": "sj05mwKy4r6w"
      },
      "source": [
        "# **Covariance matrix and Corelation coefficient matrix**"
      ]
    },
    {
      "cell_type": "markdown",
      "metadata": {
        "id": "Okgfxxp748c0"
      },
      "source": [
        "## **Covariance matrix**"
      ]
    },
    {
      "cell_type": "code",
      "metadata": {
        "colab": {
          "base_uri": "https://localhost:8080/"
        },
        "id": "ym-6WEFk5Axs",
        "outputId": "2ef90402-d420-41f6-cf5f-a11e3af0870c"
      },
      "source": [
        "covariance_matrix = np.cov(arr)\n",
        "print(covariance_matrix)"
      ],
      "execution_count": null,
      "outputs": [
        {
          "output_type": "stream",
          "text": [
            "[[1.87428780e+13 1.49419471e+13 9.12837909e+11 5.42320625e+11\n",
            "  2.61609234e+13 1.22081879e+13 5.98197437e+12 7.48955921e+12\n",
            "  2.23078147e+12 1.86267023e+12 2.23056563e+12]\n",
            " [1.49419471e+13 1.32430348e+13 1.33649453e+12 9.10926461e+11\n",
            "  2.29928355e+13 9.13429377e+12 5.19840128e+12 6.19803808e+12\n",
            "  2.24899315e+12 1.77382541e+12 2.24877544e+12]\n",
            " [9.12837909e+11 1.33649453e+12 3.22854854e+11 2.45273142e+11\n",
            "  2.25146409e+12 3.21036938e+11 4.87768843e+11 4.68716422e+11\n",
            "  3.23854541e+11 2.22830499e+11 3.23823188e+11]\n",
            " [5.42320625e+11 9.10926461e+11 2.45273142e+11 1.87748393e+11\n",
            "  1.52529230e+12 1.38197543e+11 3.27507189e+11 2.98428671e+11\n",
            "  2.33732094e+11 1.57755615e+11 2.33709551e+11]\n",
            " [2.61609234e+13 2.29928355e+13 2.25146409e+12 1.52529230e+12\n",
            "  3.99459716e+13 1.60796451e+13 9.03910209e+12 1.08187084e+13\n",
            "  3.86919372e+12 3.06367285e+12 3.86881868e+12]\n",
            " [1.22081879e+13 9.13429377e+12 3.21036938e+11 1.38197543e+11\n",
            "  1.60796451e+13 8.22058286e+12 3.70336308e+12 4.77619323e+12\n",
            "  1.24156694e+12 1.08344354e+12 1.24144669e+12]\n",
            " [5.98197437e+12 5.19840128e+12 4.87768843e+11 3.27507189e+11\n",
            "  9.03910209e+12 3.70336308e+12 2.04779986e+12 2.46371202e+12\n",
            "  8.63820153e+11 6.87703820e+11 8.63736419e+11]\n",
            " [7.48955921e+12 6.19803808e+12 4.68716422e+11 2.98428671e+11\n",
            "  1.08187084e+13 4.77619323e+12 2.46371202e+12 3.03160535e+12\n",
            "  9.71766274e+11 7.93643283e+11 9.71672094e+11]\n",
            " [2.23078147e+12 2.24899315e+12 3.23854541e+11 2.33732094e+11\n",
            "  3.86919372e+12 1.24156694e+12 8.63820153e+11 9.71766274e+11\n",
            "  4.31870205e+11 3.23822044e+11 4.31828360e+11]\n",
            " [1.86267023e+12 1.77382541e+12 2.22830499e+11 1.57755615e+11\n",
            "  3.06367285e+12 1.08344354e+12 6.87703820e+11 7.93643283e+11\n",
            "  3.23822044e+11 2.47806155e+11 3.23790707e+11]\n",
            " [2.23056563e+12 2.24877544e+12 3.23823188e+11 2.33709551e+11\n",
            "  3.86881868e+12 1.24144669e+12 8.63736419e+11 9.71672094e+11\n",
            "  4.31828360e+11 3.23790707e+11 4.31786543e+11]]\n"
          ],
          "name": "stdout"
        }
      ]
    },
    {
      "cell_type": "markdown",
      "metadata": {
        "id": "1momx0G19J6W"
      },
      "source": [
        "## **Corelation coeffiecient matrix**"
      ]
    },
    {
      "cell_type": "code",
      "metadata": {
        "colab": {
          "base_uri": "https://localhost:8080/"
        },
        "id": "42T34s9z6jTC",
        "outputId": "ea7cf252-415c-4c9b-d0df-dbfff1ced975"
      },
      "source": [
        "corelation_coeff = np.corrcoef(arr)\n",
        "print(corelation_coeff)"
      ],
      "execution_count": null,
      "outputs": [
        {
          "output_type": "stream",
          "text": [
            "[[1.         0.94840819 0.37108369 0.28910118 0.95608925 0.98351675\n",
            "  0.96556753 0.99357759 0.78408341 0.86429458 0.7840835 ]\n",
            " [0.94840819 1.         0.64635299 0.57769877 0.99968293 0.8754471\n",
            "  0.99823383 0.97819209 0.94041111 0.97917669 0.94041117]\n",
            " [0.37108369 0.64635299 1.         0.9962268  0.6269384  0.19706071\n",
            "  0.59988312 0.47377286 0.86730073 0.7877981  0.86730077]\n",
            " [0.28910118 0.57769877 0.9962268  1.         0.55696573 0.11123998\n",
            "  0.52818853 0.3955634  0.82083075 0.73137594 0.82083109]\n",
            " [0.95608925 0.99968293 0.6269384  0.55696573 1.         0.88733714\n",
            "  0.99941311 0.98311108 0.93155255 0.97375533 0.93155249]\n",
            " [0.98351675 0.8754471  0.19706071 0.11123998 0.88733714 1.\n",
            "  0.90261227 0.9567407  0.65893445 0.7590999  0.65893446]\n",
            " [0.96556753 0.99823383 0.59988312 0.52818853 0.99941311 0.90261227\n",
            "  1.         0.98880318 0.91855033 0.96538742 0.91855026]\n",
            " [0.99357759 0.97819209 0.47377286 0.3955634  0.98311108 0.9567407\n",
            "  0.98880318 1.         0.84927603 0.91565731 0.84927599]\n",
            " [0.78408341 0.94041111 0.86730073 0.82083075 0.93155255 0.65893445\n",
            "  0.91855033 0.84927603 1.         0.98985993 0.99999997]\n",
            " [0.86429458 0.97917669 0.7877981  0.73137594 0.97375533 0.7590999\n",
            "  0.96538742 0.91565731 0.98985993 1.         0.98986002]\n",
            " [0.7840835  0.94041117 0.86730077 0.82083109 0.93155249 0.65893446\n",
            "  0.91855026 0.84927599 0.99999997 0.98986002 1.        ]]\n"
          ],
          "name": "stdout"
        }
      ]
    },
    {
      "cell_type": "markdown",
      "metadata": {
        "id": "wlNeMSYvPnD3"
      },
      "source": [
        "# **Univariate, Bivariate and Multivariate relationships**"
      ]
    },
    {
      "cell_type": "markdown",
      "metadata": {
        "id": "zVj5PJ0bPzpI"
      },
      "source": [
        "## **Univariate_1 - (based on age)**"
      ]
    },
    {
      "cell_type": "code",
      "metadata": {
        "id": "eLEm4Dj7P2zi"
      },
      "source": [
        "plt.scatter(range(0,len(arr)), arr[:,0])\n"
      ],
      "execution_count": null,
      "outputs": []
    },
    {
      "cell_type": "markdown",
      "metadata": {
        "id": "_S-LMDxQUdM5"
      },
      "source": [
        "## **Bivariate_1 - (age vs loan)**"
      ]
    },
    {
      "cell_type": "code",
      "metadata": {
        "colab": {
          "base_uri": "https://localhost:8080/",
          "height": 293
        },
        "id": "-_91hvH_UgIZ",
        "outputId": "eff4cb5f-0ca8-443a-d974-6a0234d826a7"
      },
      "source": [
        "plt.scatter(arr[:,0], arr[:,2])"
      ],
      "execution_count": null,
      "outputs": [
        {
          "output_type": "execute_result",
          "data": {
            "text/plain": [
              "<matplotlib.collections.PathCollection at 0x7f11ea892210>"
            ]
          },
          "metadata": {
            "tags": []
          },
          "execution_count": 100
        },
        {
          "output_type": "display_data",
          "data": {
            "image/png": "[encoded data removed]",
            "text/plain": [
              "<Figure size 432x288 with 1 Axes>"
            ]
          },
          "metadata": {
            "tags": [],
            "needs_background": "light"
          }
        }
      ]
    },
    {
      "cell_type": "markdown",
      "metadata": {
        "id": "mmSmTrj9P4QR"
      },
      "source": [
        "## **Bivariate_2 - (duration vs loan)**"
      ]
    },
    {
      "cell_type": "code",
      "metadata": {
        "id": "gkFW0oCcP7v4"
      },
      "source": [
        "plt.scatter(arr[:,-2], arr[:,-1])"
      ],
      "execution_count": null,
      "outputs": []
    },
    {
      "cell_type": "markdown",
      "metadata": {
        "id": "zy6DkHKvHb7p"
      },
      "source": [
        "## **Bivariate_3 - (age vs salary)**"
      ]
    },
    {
      "cell_type": "code",
      "metadata": {
        "id": "CPlW9wc0Hf3P"
      },
      "source": [
        "plt.scatter(arr[:,0], arr[:,1])"
      ],
      "execution_count": null,
      "outputs": []
    },
    {
      "cell_type": "markdown",
      "metadata": {
        "id": "lRgNnRO-HzxI"
      },
      "source": [
        "## **Bivariate_4 - (loan vs interest)**"
      ]
    },
    {
      "cell_type": "code",
      "metadata": {
        "colab": {
          "base_uri": "https://localhost:8080/",
          "height": 295
        },
        "id": "rA7PcNq6H5uQ",
        "outputId": "eb9c8f5d-46f4-4292-d615-5092de947bac"
      },
      "source": [
        "plt.scatter(arr[:,2], arr[:,-1])"
      ],
      "execution_count": null,
      "outputs": [
        {
          "output_type": "execute_result",
          "data": {
            "text/plain": [
              "<matplotlib.collections.PathCollection at 0x7f11eb9a1b10>"
            ]
          },
          "metadata": {
            "tags": []
          },
          "execution_count": 107
        },
        {
          "output_type": "display_data",
          "data": {
            "image/png": "[encoded data removed]",
            "text/plain": [
              "<Figure size 432x288 with 1 Axes>"
            ]
          },
          "metadata": {
            "tags": [],
            "needs_background": "light"
          }
        }
      ]
    },
    {
      "cell_type": "markdown",
      "metadata": {
        "id": "if7JM8EpP8Z5"
      },
      "source": [
        "## **Multivariate**"
      ]
    },
    {
      "cell_type": "code",
      "metadata": {
        "id": "saTMtuxgP_DW"
      },
      "source": [
        ""
      ],
      "execution_count": null,
      "outputs": []
    }
  ]
}